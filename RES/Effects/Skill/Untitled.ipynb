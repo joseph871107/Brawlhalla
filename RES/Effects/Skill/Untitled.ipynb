{
 "cells": [
  {
   "cell_type": "code",
   "execution_count": 21,
   "metadata": {},
   "outputs": [
    {
     "name": "stdout",
     "output_type": "stream",
     "text": [
      "C:\\Users\\Joseph\\Desktop\\Brawlhalla\\RES\\Effects\\Skill\n",
      "skill_0_0.bmp\n",
      "skill_0_1.bmp\n",
      "skill_0_2.bmp\n",
      "skill_0_3.bmp\n",
      "skill_0_4.bmp\n",
      "skill_0_5.bmp\n",
      "Done!\n"
     ]
    }
   ],
   "source": [
    "import os\n",
    "mypath=os.path.dirname(os.path.abspath('')) + '\\Skill'\n",
    "from os import walk\n",
    "from PIL import Image\n",
    "\n",
    "def rotate(image_path, degrees_to_rotate):\n",
    "\timage_obj = Image.open(image_path)\n",
    "\trotated_image = image_obj.rotate(degrees_to_rotate)\n",
    "\trotated_image.save(image_path[:-4]+'(Rotated)'+image_path[-4:])\n",
    "    \n",
    "def flip_image(image_path):\n",
    "\timage_obj = Image.open(image_path)\n",
    "\trotated_image = image_obj.transpose(Image.FLIP_LEFT_RIGHT)\n",
    "\trotated_image.save(image_path[:-4]+'(Mirrored)'+image_path[-4:])\n",
    "\n",
    "def png_to_bmp(image_path):\n",
    "\timg = Image.open(image_path)\n",
    "\tr, g, b, a = img.split()\n",
    "\timg = Image.merge(\"RGB\", (r, g, b))\n",
    "\timg.save(image_path[:-4]+\".bmp\")\n",
    "    \n",
    "def jpg_to_bmp(image_path):\n",
    "\timg = Image.open(image_path)\n",
    "\tr, g, b = img.split()\n",
    "\timg = Image.merge(\"RGB\", (r, g, b))\n",
    "\timg.save(image_path[:-4]+\".bmp\")\n",
    "\n",
    "print(mypath)\n",
    "f = []\n",
    "fileName = []\n",
    "destFile=\".bmp\"\n",
    "for (dirpath, dirnames, filenames) in walk(mypath):\n",
    "\tf.extend(filenames)\n",
    "\tbreak\n",
    "for i in f:\n",
    "    if destFile in i:\n",
    "        fileName.append(i)\n",
    "\n",
    "for i in fileName:\n",
    "\tprint(i)\n",
    "\tflip_image(i)\n",
    "print(\"Done!\")\n"
   ]
  }
 ],
 "metadata": {
  "kernelspec": {
   "display_name": "Python 3",
   "language": "python",
   "name": "python3"
  },
  "language_info": {
   "codemirror_mode": {
    "name": "ipython",
    "version": 3
   },
   "file_extension": ".py",
   "mimetype": "text/x-python",
   "name": "python",
   "nbconvert_exporter": "python",
   "pygments_lexer": "ipython3",
   "version": "3.7.1"
  }
 },
 "nbformat": 4,
 "nbformat_minor": 2
}
